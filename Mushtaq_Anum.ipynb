{
 "cells": [
  {
   "cell_type": "markdown",
   "metadata": {},
   "source": [
    "<center>Computational Statistics, Prof. Dr. Lena Janys | Summer 2020, Bonn University | 31/08/2020 <br> \n",
    "        Anum Mushtaq (3301715)</center> \n",
    "\n",
    "***\n",
    "    \n",
    "# <center>Final Exam</center>\n",
    "\n",
    "### Saha, S., & Gounder, R. (2013). Corruption and economic development nexus: Variations across income levels in a non-linear framework. \n",
    "-------------------------------------------------------------------------------------------------------------------------------\n",
    "In this notebook you may find my Final Exam for computational statistics course taught at University of Bonn in the Summer Semester of 2020. This notebook presents my contribution to the study conducted by *Saha, S., & Gounder, R. (2013). Corruption and economic development nexus: Variations across income levels in a non-linear framework* . \n",
    "\n",
    "The objective of this document is to examine whether statistical methods: Regression trees, Bagging and Random forest could serve as an alternative to a simple linear model in the context of investigating a non-linear association between corruption and economic development. \n",
    "\n"
   ]
  },
  {
   "cell_type": "code",
   "execution_count": null,
   "metadata": {
    "scrolled": true
   },
   "outputs": [],
   "source": [
    "#install packages \n",
    "\n",
    "install.packages(\"MASS\")\n",
    "install.packages(\"corpcor\")\n",
    "install.packages(\"ggplot2\")\n",
    "install.packages(\"randomForest\")\n",
    "install.packages(\"rpart\")\n",
    "install.packages(\"rpart.plot\")\n",
    "\n",
    "#Load Libraries \n",
    "\n",
    "library(\"MASS\")            #multivariate normal distribution\n",
    "library(\"corpcor\")         #make positive definite matrix \n",
    "library(\"randomForest\")    #perform random forest \n",
    "library(\"rpart\")           #perform regression trees\n",
    "library(\"rpart.plot\")      #appealing tree plotting \n",
    "library(\"ggplot2\")\n",
    "\n",
    "\n",
    "set.seed(756879)"
   ]
  },
  {
   "cell_type": "markdown",
   "metadata": {},
   "source": [
    "# Introduction\n",
    "\n",
    "## Summary \n",
    "\n",
    "\n",
    "The concept of corruption and economic development has been examined to a great extent. There is present vast literature denoting the negative linear association between perceived corruption and level of income. As stated by Li et al.(2000), corruption should be negatively correlated with the income level. Previous studies have directed their research towards detecting the linear effects of corruption on income, when in fact it has been hypothesized, by the authors of this paper, that there is a strong presence of a non-linear relationship, the argument brought forward is that understanding the association between the most important components of an economy is not as simple and straightforward as it has been assumed.\n",
    "\n",
    "The main argument brought forward by the authors is that perceived corruption varies with the stage of development a country is experiencing. It has been observed that at lower levels of development countries usually attain a higher perceived corruption with increasing income levels, however at advanced stages of development it has been witnessed that perceived corruption reduces as income levels increase. It has been found that a nations’ functioning institutions and economic development have an influence upon the level of corrupt activities in a country, rich countries have therefore been perceived to be less corrupt than poor nations. Quoted by Farooq et al.(2013) corruption is the result of institutional weaknesses which discourages the economic growth of a country. Due to the variation in the level of income the cost of corruption is different between nations. As stated by Gyimah-Brempong(2002) corruption is a special case of the principal gent problem, with the general public as the principal, and the public official as the agent.The authors state that there is a certain opportunity cost associated with engaging in corrupt activities which becomes more prominent in low income countries, which results in higher levels of corruption, thus illegal acts provide a certain cost and benefit. The expected cost of corruption (i.e moral, economic and social cost) is measured against the expected benefit which is dependent upon the nations' economic, political and social systems. Hence, nations' with sound institutions provide greater benefit to the public and make it much more costly to engage in corrupt activities, i.e. in terms of employment, other than prosecution, individuals may fear losing a job which provides a high salary and benefits provided by the employer, and would therefore face a greater cost when accepting bribes or performing illegal acts.\n",
    "\n"
   ]
  },
  {
   "cell_type": "markdown",
   "metadata": {},
   "source": [
    "## Models, data and methodology\n",
    "\n",
    "\n",
    "\n",
    "When measuring the association between corruption and economic development, the argument put forward by the authors is that solely directing our focus towards a negative linear relationship between both components is not sufficient, it is quite possible that the relation between perceived corruption and income levels is in fact non-linear, and can be explained through the use of a hierarchical polynomial regression. As the authors are unsure of the degree to which both are related use a quadratic function to better reflect the experiences of countries at different stages of development. For the model to work effectively, there is panel data with a sample of 100 countries with data from 1995-2008, there has been income categorization for countries from low income, middle income and high income groups, which further demonstrates that a linear relationship may not reflect the true extent of the relation between corruption and economic development. Furthermore, the quadratic equation will depict a parabolic function(an inverted U shape) stating that as development process rises there is a rise in corruption, however after a certain point as development progresses corruption declines. This ‘point’ after which the direction of corruption changes has been quoted as the “threshold level of income”, this has been defined as the turning point at which corruption levels start to decline. The threshold (turning) point of the parabolic relationship is estimated as:\n",
    "\n",
    "$$log RGDPPC* = \\left | \\delta_{1}/ 2\\delta_{2} \\right |$$\n",
    " \n",
    "The authors administered three models of linear, quadratic and cubic specifications. For the purpose of this document, only the  linear and quadratic model will be referred. The linear model (1.1) will depict a simple negative relationship, and the quadratic model(1.2) will reflect a parabolic relation between corruption and economic development. The variables used in the model to demonstrate a nations’ institutions are adult literacy rate, the Gini index, democracy, unemployment rate and economic freedom, and for economic development, the authors have used real gross domestic product per capita.\n",
    "\n",
    "### Model framework\n",
    "\n",
    "(1.1) $CPI_{i,t} = \\beta_{0} + \\beta_{1} logRGDPPC_{i,t} + \\beta_{2} GINI_{i,t} + \\beta_{3} UNEM _{i,t} + \\beta_{4} ALR_{i,t} + \\beta_{5} DEMO_{i,t} + \\beta_{6} EF_{i,t} + \\varepsilon_{i,t}$ \n",
    "\n",
    "(1.2) $CPI_{i,t} = \\delta_{0} + \\delta_{1} logRGDPPC_{i,t} + \\delta_{2} logRGDPPC_{i,t}^{2} + \\delta_{3}GINI_{i,t} + \\beta_{3} UNEM _{i,t} + \\beta_{5} ALR_{i,t} + \\beta_{6} DEMO_{i,t} + \\beta_{7} EF_{i,t} + \\varepsilon_{i,t}$\n",
    "\n",
    "\n",
    "### Brief description of variables\n",
    "\n",
    "1. The response variable CPI (Corruption perception Index) is a subjective measure of corruption based upon the perception of corruption in a country. \n",
    "\n",
    "2. Economic development has been measured in terms of the *natural logarithm of real GDP per capita*. To be able to attain an inter-country comparison the purchasing power parity (PPP) adjusted real GDP per capita has been administered with a benchmark year of 1990. \n",
    "\n",
    "3. The socio-economic explanatory variables including *GINI*(GINI Index), *UNEM*(unemployment) and *ALR*(adult literacy rate) have been used in the study to understand their relation with corruption. *GINI* and *UNEM* have been used in the study to understand the link between effort and reward when engaging in corrupt actvities and *ALR* has been used to study the impact of education of participation in illegal activities. \n",
    "\n",
    "4. Instititutional variables include *DEMO*(democracy) and *EF*(economic freedom), these variables reflect law and order and regulations which encourage political and civil rights. \n",
    " "
   ]
  },
  {
   "cell_type": "markdown",
   "metadata": {},
   "source": [
    "## Main Findings\n",
    "\n",
    "The main findings of the initial study support the argument put forward by the authors, suggesting that there is in fact a non-linear relation between perceived corruption and economic development. From the study strong evidence was derived that corruption can be explained through socio-economic, institutional and political factors. From the linear model anegative association between income and corruption across countries was found. The estimated coefficients are between the ranges of 0.876 to 1.321, indicating that a one standard deviations in real GDP per capita would result in a 0.9925 to 1.39 point reduction in corruption. In addition, the non-linear results reflect an increase in corruption at a stage of low economic development and a decrease in corruption as the nations’ achieve a higher level of economic development. The authors state the importance of enhancing a nations’ economic development and policies with the aim to alter the dynamics of corrupt activities. The policy changes suggested by the authors are aimed at higher levels of educational attainment, employment opportunities and equal distribution of income. Furthermore to be able to intensively discourage corrupt activities it becomes essential in democratic nations for public officials to strengthen monitoring and controlling of predetermined factors which influence policies for reducing corruption. \n",
    "  "
   ]
  },
  {
   "cell_type": "markdown",
   "metadata": {},
   "source": [
    "## Brief Description of Methods\n",
    "\n",
    "### Decision Trees\n",
    "\n",
    "\n",
    "Regression trees is a method that falls under \"Tree based Methods\", the intuition behind this method is to segment the predictor space into simple non-overlapping regions 'J'. This process is performed to make predictions for a given observation, hence the mean of the response values for the training observations in a specified region is used. This method has been known to function much more effectively with non-linear data as the predictor space is divided into high-dimensional rectangles which help to account for all the points, providing us with an accurate prediction for the response variable and improving upon our ability to interpret the data. The goal for regression trees is to find regions that minimize the residual sum of squares (RSS).  \n",
    "\n",
    "$$\\sum_{j=1}^{J}\\sum_{i \\epsilon Rj}^{}\n",
    "(y_{i}-\\widehat{y}_{Rj})^{2}$$\n",
    "\n",
    "### Recursive Binary Splitting\n",
    "\n",
    "As it is computationally infeasible to partition each feature space into a 'J' box. We consider a top-down greedy approach known as recursive binary splitting, an approach that begins at the top of the tree, then continues to split the predictor space with each split indicated by two new branches extended from the tree.  To be able to perform recursive binary partitioning we are required to select the predictor xj and a cutpoint s such that {X|Xj < s} and {X|Xj ≥ s} would result in the greatest possible reduction in residual sum of squares. The process continues until the best predictor and best cut point is found, that minimizes the residual sum of squares within each resulting region.\n",
    "\n",
    "$$\\sum_{i: xi\\epsilon R1(j,s)}^{} (yi-\\widehat{y}_{R1})^{2} +\\sum_{i: xi\\epsilon R2(j,s)}^{}(yi-\\widehat{y}_{R2})^{2}$$\n",
    "\n",
    "### Tree pruning \n",
    "\n",
    "The process mentioned above may provide us with good predictions on a training set, however is much more likely to over fit the data, resulting in poor performance when using the test set. To be able to lower the variance and improve our interpretation a smaller tree with fewer splits is recommended. The first step must be to grow the tree and then prune it to obtain a sub-tree. The sub-tree must be chosen according to the lowest test error rate, which can be obtained through the cost complexity parameter, a non-negative tuning parameter $\\alpha$. This cost complexity parameter will determine at which split the residual sum of squares is the lowest providing us with the most accurate results. \n",
    "\n",
    "### Bagging\n",
    "\n",
    "Decision trees for regression provide us with an ability to easily interpret the data as they can be displayed graphically and are much better at handling qualitative predictors. However, an issue with decision trees arises when it comes to predictive accuracy, for this reason we have used Bagging as an additional statistical method. Bagging is a statistical method used to lower the variance resulting from decision trees. To be able to reduce variance it is essential to average a set of observations, in other words, you must consider as many training sets from the population and with each training set build a separate prediction model and then average them. The process of bagging involves bootstrapping, which is to take repeated samples from a single training data set and generate *B* different bootstrapped date sets, you are then required to train your method on the *b*th bootstrapped training data set in order to receive $\\widehat{f}^{*b}(x)$, which is then averaged out all the predictions to obtain: \n",
    "$$\\widehat{f}bag(x)=\\frac{1}{B}\\sum_{b=1}^{B}\\widehat{f}^{*b}(x)$$\n",
    "\n",
    "This is known as the process of *Bootstrap aggregating or bagging*, this process is particularly used in the context of decision trees, and is a general procedure used to lower bagging variance in a  statistical learning method. Bagging is particularly useful for regression trees as it grows the trees deep without pruning, this way each individual tree has high variance but low bias, by averaging out these trees we are then able to reduce the variance. \n",
    "\n",
    "### Random Forest\n",
    "\n",
    "Random forest has a procedure similar to bagging, it entails the construction of a number forest of decision trees such that at each split in a tree there is a random sample of $m$ predictors chosen from a full set of predictors $p$. At each split only one of the $m$ predictors is allowed to be used. Then another fresh sample is generated with $m$ predictors chosen at each split, with an algorithm of:\n",
    "$$m \\approx \\sqrt{p}$$ This would suggest that at each split the number of predictors considered is equal to the square root of the total number of predictors. This would imply that at each split majority of the available predictors will not be considered, and hence a single strong predictor in the data set will be highlighted in the top split, creating a number of bagged trees which look similar to one another. Random forest eliminates this issue by forcing each split to consider only a subset of predictors, this would imply that $(p-m)/p$ will avoid to consider the strong predictor, this is a process of decorrelation which encourages the use of random forests with correlated predictors. \n"
   ]
  },
  {
   "cell_type": "markdown",
   "metadata": {},
   "source": [
    "# Data Generating Process \n",
    "\n",
    "**Model** \n",
    "\n",
    " $$CPI_{i,t} = \\delta_{0} + \\delta_{1} logRGDPPC_{i,t} + \\delta_{2} logRGDPPC_{i,t}^{2} + \\delta_{3}GINI_{i,t} + \\beta_{3} UNEM _{i,t} + \\beta_{5} ALR_{i,t} + \\beta_{6} DEMO_{i,t} + \\beta_{7} EF_{i,t} + \\varepsilon_{i,t}$$\n",
    "\n",
    "\n",
    "\n",
    "\n",
    "Remarks: \n",
    "\n",
    "1. Generate our data using a **correlation matrix** provided to us by Saha and Gounder (2013). The correlation matrix provides us with the essential information required to gain knowledge about the interrelation between the variables. \n",
    "\n",
    "\n",
    "2. The correlation matrix is used to create a **covariance matrix** which is further used to derive the values for the explanatory variables: adult literacy rate, the Gini index, democracy, unemployment rate and economic freedom, and for economic development and real gross domestic product per capita. \n",
    "\n",
    "\n",
    "3. 'mvrnorm' function, a $\\mu$ and $\\Sigma$ (covariance) required. \n",
    "\n",
    "\n",
    "4. $\\beta$ coefficients chosen from the the study have been used to create the quadratic equation used to find the value for the response response variable (CPI).  \n",
    "\n",
    "\n",
    "5. Number of observations= 1400\n",
    " \n",
    "\n"
   ]
  },
  {
   "cell_type": "code",
   "execution_count": 29,
   "metadata": {},
   "outputs": [
    {
     "name": "stderr",
     "output_type": "stream",
     "text": [
      "`geom_smooth()` using method = 'gam' and formula 'y ~ s(x, bs = \"cs\")'\n"
     ]
    },
    {
     "data": {
      "image/png": "[encoded data removed]",
      "text/plain": [
       "plot without title"
      ]
     },
     "metadata": {},
     "output_type": "display_data"
    }
   ],
   "source": [
    "#Data generating process \n",
    "\n",
    "\n",
    "genData <- function(n){\n",
    "  variables <- c(\"ALR\", \"DEMO\", \"EF\", \"GINI\", \"Log_RGDPPC\", \"UNEM\")\n",
    "  \n",
    "  mu <- c(88.18, 6.187,6.117,38.458,8.733,12.157)                 \n",
    "  stddev <- c(15.964, 3.352,1.241,8.9484,1.056,9.770)\n",
    "  corMat <- matrix(c( 1, 0.512, 0.350, 0.301, 0.627, -0.431,\n",
    "                      0.512, 1,      0.581, -0.391, 0.626, -0.356,\n",
    "                      0.350, 0.581,  1,     -0.189, 0.660, 0.446,\n",
    "                      0.301, -0.391, -0.189,      1,-0.463,0.216, \n",
    "                      0.627, 0.626, 0.660, 0.660, 1,     -0.543,\n",
    "                      -0.431, -0.356, 0.446, 0.216, -0.543, 1 ),\n",
    "                   nrow=6,\n",
    "                   ncol = 6,\n",
    "                   dimnames = list(variables, variables))\n",
    "  covMat <- stddev %*% t(stddev) * corMat\n",
    "  cov<-make.positive.definite(m = covMat)\n",
    "  \n",
    "  genMatrix <- mvrnorm(n = n, mu = mu, Sigma = cov)\n",
    "  genDf <- data.frame(genMatrix)\n",
    "  \n",
    "  CPI <- with(\n",
    "    data = genDf,\n",
    "    -21.188 + 7.984 * Log_RGDPPC - 0.561 * Log_RGDPPC ^ 2 + 0.025 * ALR + 0.034 * GINI + 0.017 * UNEM - 0.019 * DEMO - 0.513 * EF + rnorm(1400)\n",
    "  )\n",
    "  \n",
    "  genDf <- cbind(genDf, CPI)\n",
    "  genDf\n",
    "}\n",
    "\n",
    "trainDf <- genData(1400)\n",
    "\n",
    "# Non-linear association between Corruption and economic growth\n",
    "\n",
    "qplot(x= Log_RGDPPC, y= CPI, data=trainDf)+stat_smooth()"
   ]
  },
  {
   "cell_type": "markdown",
   "metadata": {},
   "source": [
    "# Linear Model \n",
    "\n",
    "\n",
    "1. Negative association between percieved CPI and LOG_RGDPPC, ALR, UNEM, GINI, DEMO\n",
    "\n",
    "\n",
    "2. Positive association between percieved CPI and EF\n"
   ]
  },
  {
   "cell_type": "code",
   "execution_count": 30,
   "metadata": {},
   "outputs": [
    {
     "data": {
      "text/plain": [
       "\n",
       "Call:\n",
       "lm(formula = CPI ~ Log_RGDPPC + GINI + UNEM + ALR + DEMO + EF, \n",
       "    data = trainDf)\n",
       "\n",
       "Residuals:\n",
       "    Min      1Q  Median      3Q     Max \n",
       "-8.1189 -0.7529  0.1172  0.9238  4.0073 \n",
       "\n",
       "Coefficients:\n",
       "             Estimate Std. Error t value Pr(>|t|)\n",
       "(Intercept)  25959.78  155672.84   0.167    0.868\n",
       "Log_RGDPPC   -4555.55   27329.55  -0.167    0.868\n",
       "GINI           -67.43     404.91  -0.167    0.868\n",
       "UNEM          -704.45    4227.90  -0.167    0.868\n",
       "ALR            -28.92     173.69  -0.166    0.868\n",
       "DEMO          -988.77    5934.14  -0.167    0.868\n",
       "EF            5501.73   33022.31   0.167    0.868\n",
       "\n",
       "Residual standard error: 1.415 on 1393 degrees of freedom\n",
       "Multiple R-squared:  0.7683,\tAdjusted R-squared:  0.7673 \n",
       "F-statistic: 769.9 on 6 and 1393 DF,  p-value: < 2.2e-16\n"
      ]
     },
     "metadata": {},
     "output_type": "display_data"
    }
   ],
   "source": [
    "#Original Linear model with training data \n",
    "\n",
    "linear_train <- lm(formula = CPI ~ Log_RGDPPC+GINI+UNEM+ALR+DEMO+EF, data = trainDf)\n",
    "summary(linear_train)\n"
   ]
  },
  {
   "cell_type": "markdown",
   "metadata": {},
   "source": [
    "# Regression Trees\n",
    "\n",
    "###  Training data \n",
    "\n",
    "1. The initial step is to generate the training data with the built-in function. \n",
    "\n",
    "2. The full tree is constructed using a complexity parameter ($\\alpha$) set to minus 1. \n",
    "\n",
    "3. **Prune the Tree** : when performing regression trees on training data we might be able to produce good predictions, however it is most likely to overfit the data, resulting in poor test performance, this is because the full tree might be too complex, an alternative is to construct a *smaller tree*. \n",
    "\n",
    "4. Prune the tree to achieve the split at which our residual sum of squares is minimized with each split exceeding some (high) threshold, in this regard the $\\alpha$ has been set as a default by R (from 122 to 7 splits)\n",
    "\n",
    "5. Terminal or leaf nodes are the defined as the final subsets. Whereas, the internal or split nodes are defined as the intermediate subsets. \n",
    "\n",
    "6. To be able to predict the outcome in each leaf node we consider the average outcome of the training data in a node. \n",
    "\n",
    " "
   ]
  },
  {
   "cell_type": "code",
   "execution_count": 31,
   "metadata": {},
   "outputs": [
    {
     "name": "stdout",
     "output_type": "stream",
     "text": [
      "\n",
      "Regression tree:\n",
      "rpart(formula = CPI ~ Log_RGDPPC + GINI + UNEM + ALR + DEMO + \n",
      "    EF, data = trainDf, method = \"anova\", cp = -1)\n",
      "\n",
      "Variables actually used in tree construction:\n",
      "[1] ALR        DEMO       EF         GINI       Log_RGDPPC UNEM      \n",
      "\n",
      "Root node error: 12040/1400 = 8.6002\n",
      "\n",
      "n= 1400 \n",
      "\n",
      "             CP nsplit rel error  xerror      xstd\n",
      "1    5.6878e-01      0  1.000000 1.00166 0.0491794\n",
      "2    9.8790e-02      1  0.431221 0.44858 0.0209437\n",
      "3    8.8145e-02      2  0.332431 0.35116 0.0151402\n",
      "4    1.5713e-02      3  0.244286 0.26011 0.0110405\n",
      "5    1.5662e-02      4  0.228573 0.23976 0.0105372\n",
      "6    1.5472e-02      5  0.212911 0.23640 0.0103720\n",
      "7    1.2260e-02      6  0.197439 0.22590 0.0096448\n",
      "8    7.3956e-03      7  0.185178 0.20526 0.0079407\n",
      "9    6.7321e-03      8  0.177783 0.20265 0.0078181\n",
      "10   6.4525e-03      9  0.171051 0.19774 0.0075898\n",
      "11   5.6756e-03     10  0.164598 0.19126 0.0073434\n",
      "12   5.0323e-03     11  0.158923 0.18341 0.0070764\n",
      "13   3.6374e-03     12  0.153890 0.17846 0.0069277\n",
      "14   3.5303e-03     13  0.150253 0.17493 0.0067066\n",
      "15   2.4183e-03     14  0.146723 0.16868 0.0065820\n",
      "16   2.3033e-03     15  0.144304 0.16970 0.0066277\n",
      "17   2.1123e-03     16  0.142001 0.16880 0.0065517\n",
      "18   2.0526e-03     17  0.139889 0.16791 0.0065218\n",
      "19   1.7688e-03     18  0.137836 0.16838 0.0065601\n",
      "20   1.5241e-03     19  0.136067 0.16637 0.0064927\n",
      "21   1.5178e-03     20  0.134543 0.16548 0.0064777\n",
      "22   1.4498e-03     21  0.133025 0.16471 0.0064651\n",
      "23   1.2676e-03     22  0.131576 0.16424 0.0064498\n",
      "24   1.2581e-03     23  0.130308 0.16373 0.0063660\n",
      "25   1.2547e-03     24  0.129050 0.16373 0.0063660\n",
      "26   1.2299e-03     25  0.127795 0.16373 0.0063660\n",
      "27   1.1680e-03     26  0.126565 0.16204 0.0063856\n",
      "28   1.1583e-03     27  0.125397 0.16228 0.0064062\n",
      "29   9.1174e-04     29  0.123081 0.16320 0.0063310\n",
      "30   8.2838e-04     32  0.120345 0.16575 0.0063890\n",
      "31   8.1901e-04     33  0.119517 0.16533 0.0063595\n",
      "32   8.1661e-04     34  0.118698 0.16583 0.0063705\n",
      "33   8.1022e-04     35  0.117881 0.16572 0.0063698\n",
      "34   8.0817e-04     36  0.117071 0.16576 0.0063696\n",
      "35   8.0272e-04     37  0.116263 0.16576 0.0063696\n",
      "36   7.4440e-04     38  0.115460 0.16602 0.0063361\n",
      "37   7.2960e-04     39  0.114716 0.16676 0.0063654\n",
      "38   7.2352e-04     40  0.113986 0.16652 0.0063522\n",
      "39   7.0485e-04     42  0.112539 0.16694 0.0063623\n",
      "40   7.0207e-04     44  0.111130 0.16690 0.0063552\n",
      "41   6.8327e-04     45  0.110427 0.16686 0.0063490\n",
      "42   6.6617e-04     46  0.109744 0.16690 0.0063076\n",
      "43   6.6519e-04     47  0.109078 0.16729 0.0063203\n",
      "44   6.5879e-04     48  0.108413 0.16727 0.0063196\n",
      "45   6.4215e-04     49  0.107754 0.16730 0.0063217\n",
      "46   6.1789e-04     50  0.107112 0.16738 0.0063002\n",
      "47   6.1126e-04     51  0.106494 0.16751 0.0063087\n",
      "48   5.9637e-04     53  0.105271 0.16789 0.0063004\n",
      "49   5.8455e-04     54  0.104675 0.16783 0.0062868\n",
      "50   5.8221e-04     55  0.104091 0.16793 0.0063036\n",
      "51   5.8161e-04     56  0.103508 0.16793 0.0063015\n",
      "52   5.7521e-04     57  0.102927 0.16809 0.0063000\n",
      "53   5.7055e-04     58  0.102352 0.16785 0.0062993\n",
      "54   5.5142e-04     59  0.101781 0.16730 0.0062840\n",
      "55   5.2692e-04     60  0.101230 0.16682 0.0062866\n",
      "56   5.2014e-04     61  0.100703 0.16598 0.0062211\n",
      "57   5.1108e-04     62  0.100182 0.16663 0.0062377\n",
      "58   4.9078e-04     64  0.099160 0.16771 0.0062590\n",
      "59   4.7359e-04     65  0.098670 0.16857 0.0062827\n",
      "60   4.5171e-04     66  0.098196 0.16855 0.0063225\n",
      "61   4.3106e-04     68  0.097293 0.17041 0.0063819\n",
      "62   4.1549e-04     69  0.096862 0.17076 0.0064256\n",
      "63   4.1189e-04     70  0.096446 0.17073 0.0064462\n",
      "64   4.1030e-04     71  0.096034 0.17083 0.0064438\n",
      "65   4.0933e-04     72  0.095624 0.17090 0.0064487\n",
      "66   3.9385e-04     73  0.095215 0.17041 0.0064655\n",
      "67   3.7893e-04     75  0.094427 0.17001 0.0064665\n",
      "68   3.7070e-04     76  0.094048 0.17157 0.0065884\n",
      "69   3.6587e-04     78  0.093306 0.17115 0.0065815\n",
      "70   3.6073e-04     79  0.092941 0.17164 0.0066210\n",
      "71   3.5682e-04     80  0.092580 0.17122 0.0066101\n",
      "72   3.5353e-04     81  0.092223 0.17089 0.0066047\n",
      "73   3.5308e-04     82  0.091869 0.17071 0.0065994\n",
      "74   3.4660e-04     83  0.091516 0.17151 0.0066363\n",
      "75   3.3274e-04     84  0.091170 0.17131 0.0066369\n",
      "76   3.3081e-04     85  0.090837 0.17156 0.0066495\n",
      "77   3.2376e-04     86  0.090506 0.17180 0.0066487\n",
      "78   3.0797e-04     87  0.090183 0.17277 0.0066566\n",
      "79   3.0086e-04     88  0.089875 0.17271 0.0066694\n",
      "80   2.9930e-04     89  0.089574 0.17194 0.0066366\n",
      "81   2.8666e-04     90  0.089274 0.17227 0.0066355\n",
      "82   2.8152e-04     91  0.088988 0.17284 0.0066509\n",
      "83   2.7759e-04     92  0.088706 0.17264 0.0066500\n",
      "84   2.6993e-04     95  0.087873 0.17304 0.0066494\n",
      "85   2.6808e-04     96  0.087603 0.17324 0.0066550\n",
      "86   2.6733e-04     97  0.087335 0.17336 0.0066560\n",
      "87   2.6392e-04     98  0.087068 0.17298 0.0066504\n",
      "88   2.6322e-04    101  0.086276 0.17316 0.0066530\n",
      "89   2.6292e-04    102  0.086012 0.17308 0.0066532\n",
      "90   2.5670e-04    103  0.085749 0.17278 0.0066405\n",
      "91   2.5595e-04    104  0.085493 0.17307 0.0066444\n",
      "92   2.4547e-04    105  0.085237 0.17345 0.0066579\n",
      "93   2.4537e-04    106  0.084991 0.17338 0.0066550\n",
      "94   2.3232e-04    107  0.084746 0.17409 0.0066846\n",
      "95   2.2639e-04    109  0.084281 0.17461 0.0066981\n",
      "96   2.2558e-04    110  0.084055 0.17473 0.0067034\n",
      "97   2.0649e-04    111  0.083829 0.17515 0.0067128\n",
      "98   1.8651e-04    112  0.083623 0.17548 0.0066829\n",
      "99   1.7570e-04    113  0.083436 0.17557 0.0066929\n",
      "100  1.5328e-04    114  0.083261 0.17578 0.0067020\n",
      "101  1.4490e-04    117  0.082801 0.17594 0.0067012\n",
      "102  1.2217e-04    118  0.082656 0.17628 0.0067164\n",
      "103  1.1480e-04    119  0.082534 0.17707 0.0067684\n",
      "104  1.1223e-04    120  0.082419 0.17716 0.0067538\n",
      "105  1.1099e-04    121  0.082307 0.17726 0.0067448\n",
      "106  1.1075e-04    122  0.082196 0.17726 0.0067448\n",
      "107  9.9871e-05    123  0.082085 0.17721 0.0067455\n",
      "108  8.2981e-05    124  0.081985 0.17723 0.0067438\n",
      "109 -1.0000e+00    125  0.081902 0.17723 0.0067438\n",
      "\n",
      "Regression tree:\n",
      "rpart(formula = CPI ~ Log_RGDPPC + GINI + UNEM + ALR + DEMO + \n",
      "    EF, data = trainDf)\n",
      "\n",
      "Variables actually used in tree construction:\n",
      "[1] EF         Log_RGDPPC\n",
      "\n",
      "Root node error: 12040/1400 = 8.6002\n",
      "\n",
      "n= 1400 \n",
      "\n",
      "        CP nsplit rel error  xerror      xstd\n",
      "1 0.568779      0   1.00000 1.00143 0.0491116\n",
      "2 0.098790      1   0.43122 0.44719 0.0212969\n",
      "3 0.088145      2   0.33243 0.35869 0.0151293\n",
      "4 0.015713      3   0.24429 0.26124 0.0111553\n",
      "5 0.015662      4   0.22857 0.24031 0.0104816\n",
      "6 0.015472      5   0.21291 0.24031 0.0104816\n",
      "7 0.012260      6   0.19744 0.22069 0.0085062\n",
      "8 0.010000      7   0.18518 0.21381 0.0083323\n"
     ]
    }
   ],
   "source": [
    "# Regression trees\n",
    "\n",
    "#fit a regression tree on training data \n",
    "\n",
    "#Unpruned tree \n",
    "tree_train<- rpart(formula = CPI ~ Log_RGDPPC+GINI+UNEM+ALR+DEMO+EF, data = trainDf, method=\"anova\", cp= -1)\n",
    "printcp(tree_train)\n",
    "\n",
    "#summary(tree_train) # provides us with an in-depth overview of each split \n",
    "#print(tree_train) #more compact summary\n",
    "\n",
    "#optimally pruned tree\n",
    "pruneTree_train <- rpart(formula = CPI ~ Log_RGDPPC+GINI+UNEM+ALR+DEMO+EF, data = trainDf)\n",
    "printcp(pruneTree_train)"
   ]
  },
  {
   "cell_type": "code",
   "execution_count": 32,
   "metadata": {},
   "outputs": [
    {
     "name": "stderr",
     "output_type": "stream",
     "text": [
      "Warning message in sqrt(cp0 * c(Inf, cp0[-length(cp0)])):\n",
      "\"NaNs produced\""
     ]
    },
    {
     "data": {
      "image/png": "[encoded data removed]",
      "text/plain": [
       "plot without title"
      ]
     },
     "metadata": {},
     "output_type": "display_data"
    }
   ],
   "source": [
    "#plot cp to observe before and after X-error = CV error of unpruned and pruned tree on training data \n",
    "\n",
    "par(mfrow = c(1, 2), oma = c(0, 0, 5, 0))\n",
    "plotcp(tree_train, minline=TRUE, upper = \"size\", col=\"red\")\n",
    "plotcp(pruneTree_train, minline=TRUE, upper = \"size\", col = \"blue\")\n",
    "\n",
    "mtext(\"Complexity Parameter Unpruned vs. Pruned Tree – Training Data\", outer = TRUE, cex = 1.2)\n"
   ]
  },
  {
   "cell_type": "code",
   "execution_count": 33,
   "metadata": {},
   "outputs": [
    {
     "data": {
      "image/png": "[encoded data removed]",
      "text/plain": [
       "Plot with title \"Optimally pruned Tree.Train\""
      ]
     },
     "metadata": {},
     "output_type": "display_data"
    }
   ],
   "source": [
    "# plot the unpruned tree  on the train data \n",
    "#rpart.plot(tree_test, main = \"Unpruned Tree\")\n",
    "\n",
    "#plot the pruned tree on the train data\n",
    "rpart.plot(pruneTree_train, main = \"Optimally pruned Tree.Train\")"
   ]
  },
  {
   "cell_type": "markdown",
   "metadata": {},
   "source": [
    "###  Test data\n",
    "\n",
    "1. Generate test data from the in-built function.\n",
    "\n",
    "2. Fit the linear model on test data. \n",
    "\n",
    "3. Fit the unpruned and pruned tree on the test data. "
   ]
  },
  {
   "cell_type": "code",
   "execution_count": 34,
   "metadata": {},
   "outputs": [
    {
     "data": {
      "text/plain": [
       "\n",
       "Call:\n",
       "lm(formula = CPI ~ Log_RGDPPC + GINI + UNEM + ALR + DEMO + EF, \n",
       "    data = testDf)\n",
       "\n",
       "Residuals:\n",
       "    Min      1Q  Median      3Q     Max \n",
       "-7.6114 -0.7557  0.1286  0.8873  4.5930 \n",
       "\n",
       "Coefficients:\n",
       "            Estimate Std. Error t value Pr(>|t|)\n",
       "(Intercept) 132445.6   137424.4   0.964    0.335\n",
       "Log_RGDPPC  -23249.9    24125.9  -0.964    0.335\n",
       "GINI          -344.4      357.4  -0.964    0.335\n",
       "UNEM         -3596.5     3732.3  -0.964    0.335\n",
       "ALR           -147.7      153.3  -0.963    0.335\n",
       "DEMO         -5047.9     5238.5  -0.964    0.335\n",
       "EF           28090.2    29151.3   0.964    0.335\n",
       "\n",
       "Residual standard error: 1.324 on 1393 degrees of freedom\n",
       "Multiple R-squared:  0.7647,\tAdjusted R-squared:  0.7637 \n",
       "F-statistic: 754.4 on 6 and 1393 DF,  p-value: < 2.2e-16\n"
      ]
     },
     "metadata": {},
     "output_type": "display_data"
    }
   ],
   "source": [
    "testDf <- genData(1400)\n",
    "\n",
    "#Original Linear model with test data \n",
    "\n",
    "linear_test <- lm(formula = CPI ~ Log_RGDPPC+GINI+UNEM+ALR+DEMO+EF, data = testDf)\n",
    "summary(linear_test)\n"
   ]
  },
  {
   "cell_type": "code",
   "execution_count": 35,
   "metadata": {},
   "outputs": [
    {
     "name": "stdout",
     "output_type": "stream",
     "text": [
      "\n",
      "Regression tree:\n",
      "rpart(formula = CPI ~ Log_RGDPPC + GINI + UNEM + ALR + DEMO + \n",
      "    EF, data = testDf)\n",
      "\n",
      "Variables actually used in tree construction:\n",
      "[1] Log_RGDPPC\n",
      "\n",
      "Root node error: 10374/1400 = 7.41\n",
      "\n",
      "n= 1400 \n",
      "\n",
      "        CP nsplit rel error  xerror      xstd\n",
      "1 0.517829      0   1.00000 1.00135 0.0490870\n",
      "2 0.126340      1   0.48217 0.51127 0.0220203\n",
      "3 0.085041      2   0.35583 0.37010 0.0158623\n",
      "4 0.017867      3   0.27079 0.28792 0.0119230\n",
      "5 0.017659      4   0.25292 0.27315 0.0114875\n",
      "6 0.014055      5   0.23526 0.25140 0.0094002\n",
      "7 0.010000      6   0.22121 0.24558 0.0090383\n"
     ]
    }
   ],
   "source": [
    "#fit a regression tree on test data \n",
    "\n",
    "#Unpruned tree on test data \n",
    "\n",
    "tree_test<- rpart(formula = CPI ~ Log_RGDPPC+GINI+UNEM+ALR+DEMO+EF, data = testDf, cp=-1)\n",
    "#printcp(tree_train)\n",
    "\n",
    "#optimally pruned tree on test data \n",
    "\n",
    "pruneTree_test <- rpart(formula = CPI ~ Log_RGDPPC+GINI+UNEM+ALR+DEMO+EF, data = testDf)\n",
    "printcp(pruneTree_test)\n"
   ]
  },
  {
   "cell_type": "code",
   "execution_count": 36,
   "metadata": {},
   "outputs": [
    {
     "data": {
      "image/png": "[encoded data removed]",
      "text/plain": [
       "Plot with title \"Optimally pruned Tree.Test\""
      ]
     },
     "metadata": {},
     "output_type": "display_data"
    }
   ],
   "source": [
    "# plot the unpruned tree on test data\n",
    "#rpart.plot(tree_test, main = \"Unpruned Tree\")\n",
    "\n",
    "#plot the pruned tree on the test data\n",
    "rpart.plot(pruneTree_test, main = \"Optimally pruned Tree.Test\")"
   ]
  },
  {
   "cell_type": "markdown",
   "metadata": {},
   "source": [
    "###  MSE \n",
    "\n",
    "compare the test errors for both *Linear model* and *Decision trees* \n"
   ]
  },
  {
   "cell_type": "code",
   "execution_count": 37,
   "metadata": {},
   "outputs": [
    {
     "data": {
      "text/html": [
       "<table>\n",
       "<thead><tr><th scope=col>Method</th><th scope=col>Training_MSE</th><th scope=col>Test.MSE</th></tr></thead>\n",
       "<tbody>\n",
       "\t<tr><td>Linear Model         </td><td>1.9925304            </td><td>1.7438344            </td></tr>\n",
       "\t<tr><td>Optimally pruned tree</td><td>1.5925797            </td><td>1.6391681            </td></tr>\n",
       "\t<tr><td>Unpruned Tree        </td><td>0.7043779            </td><td>0.6878142            </td></tr>\n",
       "</tbody>\n",
       "</table>\n"
      ],
      "text/latex": [
       "\\begin{tabular}{r|lll}\n",
       " Method & Training\\_MSE & Test.MSE\\\\\n",
       "\\hline\n",
       "\t Linear Model          & 1.9925304             & 1.7438344            \\\\\n",
       "\t Optimally pruned tree & 1.5925797             & 1.6391681            \\\\\n",
       "\t Unpruned Tree         & 0.7043779             & 0.6878142            \\\\\n",
       "\\end{tabular}\n"
      ],
      "text/markdown": [
       "\n",
       "| Method | Training_MSE | Test.MSE |\n",
       "|---|---|---|\n",
       "| Linear Model          | 1.9925304             | 1.7438344             |\n",
       "| Optimally pruned tree | 1.5925797             | 1.6391681             |\n",
       "| Unpruned Tree         | 0.7043779             | 0.6878142             |\n",
       "\n"
      ],
      "text/plain": [
       "  Method                Training_MSE Test.MSE \n",
       "1 Linear Model          1.9925304    1.7438344\n",
       "2 Optimally pruned tree 1.5925797    1.6391681\n",
       "3 Unpruned Tree         0.7043779    0.6878142"
      ]
     },
     "metadata": {},
     "output_type": "display_data"
    }
   ],
   "source": [
    "## calculate the mean squared error for the training and test set and compare the full tree, pruned tree and the linear model.\n",
    "\n",
    "#MSE Train\n",
    "Treemse_train <- mean((predict(tree_train)-trainDf$CPI)^2)\n",
    "pruneTreemse_train <- mean((predict(pruneTree_train)-trainDf$CPI)^2)\n",
    "linearmse_train <- mean((predict(linear_train)-trainDf$CPI)^2)\n",
    "\n",
    "#MSE Test \n",
    "Treemse_test <- mean((predict(tree_test)-testDf$CPI)^2)\n",
    "pruneTreemse_test <- mean((predict(pruneTree_test)-testDf$CPI)^2)\n",
    "linearmse_test <- mean((predict(linear_test)-testDf$CPI)^2)\n",
    "\n",
    "\n",
    "MSE.Table <- data.frame(\"Method\" = c(\"Linear Model\", \"Optimally pruned tree\", \"Unpruned Tree\"),\n",
    "                        \"Training_MSE\"=c(linearmse_train,pruneTreemse_train, Treemse_train),\n",
    "                        \"Test-MSE\" = c(linearmse_test,pruneTreemse_test,Treemse_test))\n",
    "                        \n",
    "MSE.Table"
   ]
  },
  {
   "cell_type": "markdown",
   "metadata": {},
   "source": [
    "###  Small Simulation Study (Comparison between Decision trees and Linear model) \n",
    "\n",
    "1. Small simulation study with 100 iterations.\n",
    "2. Boxplots used to demonstrate the variation in mse between both methods. \n",
    "3. Boxplots includes outliers. "
   ]
  },
  {
   "cell_type": "code",
   "execution_count": 38,
   "metadata": {},
   "outputs": [
    {
     "data": {
      "text/html": [
       "<table>\n",
       "<thead><tr><th></th><th scope=col>data.Min.</th><th scope=col>data.1st.Qu.</th><th scope=col>data.Median</th><th scope=col>data.Mean</th><th scope=col>data.3rd.Qu.</th><th scope=col>data.Max.</th></tr></thead>\n",
       "<tbody>\n",
       "\t<tr><th scope=row>Tree</th><td>1.384493</td><td>1.529138</td><td>1.569388</td><td>1.573434</td><td>1.618811</td><td>1.765844</td></tr>\n",
       "\t<tr><th scope=row>OLS</th><td>1.743101</td><td>1.889116</td><td>1.964332</td><td>1.970497</td><td>2.054220</td><td>2.236239</td></tr>\n",
       "</tbody>\n",
       "</table>\n"
      ],
      "text/latex": [
       "\\begin{tabular}{r|llllll}\n",
       "  & data.Min. & data.1st.Qu. & data.Median & data.Mean & data.3rd.Qu. & data.Max.\\\\\n",
       "\\hline\n",
       "\tTree & 1.384493 & 1.529138 & 1.569388 & 1.573434 & 1.618811 & 1.765844\\\\\n",
       "\tOLS & 1.743101 & 1.889116 & 1.964332 & 1.970497 & 2.054220 & 2.236239\\\\\n",
       "\\end{tabular}\n"
      ],
      "text/markdown": [
       "\n",
       "| <!--/--> | data.Min. | data.1st.Qu. | data.Median | data.Mean | data.3rd.Qu. | data.Max. |\n",
       "|---|---|---|---|---|---|---|\n",
       "| Tree | 1.384493 | 1.529138 | 1.569388 | 1.573434 | 1.618811 | 1.765844 |\n",
       "| OLS | 1.743101 | 1.889116 | 1.964332 | 1.970497 | 2.054220 | 2.236239 |\n",
       "\n"
      ],
      "text/plain": [
       "     data.Min. data.1st.Qu. data.Median data.Mean data.3rd.Qu. data.Max.\n",
       "Tree 1.384493  1.529138     1.569388    1.573434  1.618811     1.765844 \n",
       "OLS  1.743101  1.889116     1.964332    1.970497  2.054220     2.236239 "
      ]
     },
     "metadata": {},
     "output_type": "display_data"
    },
    {
     "data": {
      "image/png": "[encoded data removed]",
      "text/plain": [
       "plot without title"
      ]
     },
     "metadata": {},
     "output_type": "display_data"
    }
   ],
   "source": [
    "# perform simulation \n",
    "mse_simu_tree_vec<-c()\n",
    "mse_simu_ols_vec<-c()\n",
    "for (i in 1:100) {\n",
    "  df_simu <- genData(1400)\n",
    "\n",
    "  tree_simu <- rpart(formula= CPI ~ Log_RGDPPC+GINI+UNEM+ALR+DEMO+EF, data = df_simu)\n",
    "  ols_simu <- lm(formula = CPI ~ Log_RGDPPC+GINI+UNEM+ALR+DEMO+EF, data = df_simu)\n",
    "  mse_simu_tree <- mean((predict(tree_simu)-df_simu$CPI)^2)\n",
    "  mse_ols <- mean((predict(ols_simu)-df_simu$CPI)^2)\n",
    "  mse_simu_tree_vec<-c(mse_simu_tree_vec,mse_simu_tree)\n",
    "  mse_simu_ols_vec<-c(mse_simu_ols_vec,mse_ols)\n",
    "  \n",
    "}\n",
    "\n",
    "simu=data.frame(MSE_OLS=mse_simu_ols_vec,MSE_tree=mse_simu_tree_vec, iteration=c(1:100))\n",
    "summary<-data.frame(data=rbind(summary(simu$MSE_tree),summary(simu$MSE_OLS)), row.names=c('Tree', 'OLS'))\n",
    "summary\n",
    "boxplot(simu$MSE_tree, simu$MSE_OLS, names=c(\"MSE_tree\", \"MSE_OLS\"), outline=FALSE)\n",
    "points(simu$MSE_tree, col='blue')\n",
    "\n"
   ]
  },
  {
   "cell_type": "markdown",
   "metadata": {},
   "source": [
    "### Variance \n",
    "\n",
    "1. \"Tree prediction lowers variance at a cost of a little bias\"\n",
    "\n",
    "2. Generating a storage vector for variance and mean squared error\n",
    "3. Generate a optimally pruned tree with the $\\alpha$ value provided by the function 'rpart' in R. \n",
    "\n",
    "4. Calculate the variance and the mse. \n",
    " \n",
    "Remarks: \n",
    " \n",
    "An increase in the number of splits increases variance and  reduces  mse. \n"
   ]
  },
  {
   "cell_type": "code",
   "execution_count": 39,
   "metadata": {},
   "outputs": [
    {
     "name": "stdout",
     "output_type": "stream",
     "text": [
      "\n",
      "Regression tree:\n",
      "rpart(formula = CPI ~ Log_RGDPPC + GINI + UNEM + ALR + DEMO + \n",
      "    EF, data = testDf)\n",
      "\n",
      "Variables actually used in tree construction:\n",
      "[1] Log_RGDPPC\n",
      "\n",
      "Root node error: 10374/1400 = 7.41\n",
      "\n",
      "n= 1400 \n",
      "\n",
      "        CP nsplit rel error  xerror      xstd\n",
      "1 0.517829      0   1.00000 1.00137 0.0491627\n",
      "2 0.126340      1   0.48217 0.51186 0.0216531\n",
      "3 0.085041      2   0.35583 0.37036 0.0164045\n",
      "4 0.017867      3   0.27079 0.28687 0.0118745\n",
      "5 0.017659      4   0.25292 0.27988 0.0111966\n",
      "6 0.014055      5   0.23526 0.26378 0.0098170\n",
      "7 0.010000      6   0.22121 0.24747 0.0092854\n"
     ]
    },
    {
     "data": {
      "text/html": [
       "<table>\n",
       "<thead><tr><th scope=col>CP</th><th scope=col>nsplit</th><th scope=col>rel error</th><th scope=col>xerror</th><th scope=col>xstd</th></tr></thead>\n",
       "<tbody>\n",
       "\t<tr><td>0.51782858 </td><td>0          </td><td>1.0000000  </td><td>1.0013679  </td><td>0.049162658</td></tr>\n",
       "\t<tr><td>0.12634003 </td><td>1          </td><td>0.4821714  </td><td>0.5118592  </td><td>0.021653092</td></tr>\n",
       "\t<tr><td>0.08504068 </td><td>2          </td><td>0.3558314  </td><td>0.3703644  </td><td>0.016404498</td></tr>\n",
       "\t<tr><td>0.01786731 </td><td>3          </td><td>0.2707907  </td><td>0.2868700  </td><td>0.011874473</td></tr>\n",
       "\t<tr><td>0.01765898 </td><td>4          </td><td>0.2529234  </td><td>0.2798836  </td><td>0.011196618</td></tr>\n",
       "\t<tr><td>0.01405451 </td><td>5          </td><td>0.2352644  </td><td>0.2637802  </td><td>0.009816992</td></tr>\n",
       "\t<tr><td>0.01000000 </td><td>6          </td><td>0.2212099  </td><td>0.2474676  </td><td>0.009285350</td></tr>\n",
       "</tbody>\n",
       "</table>\n"
      ],
      "text/latex": [
       "\\begin{tabular}{r|lllll}\n",
       " CP & nsplit & rel error & xerror & xstd\\\\\n",
       "\\hline\n",
       "\t 0.51782858  & 0           & 1.0000000   & 1.0013679   & 0.049162658\\\\\n",
       "\t 0.12634003  & 1           & 0.4821714   & 0.5118592   & 0.021653092\\\\\n",
       "\t 0.08504068  & 2           & 0.3558314   & 0.3703644   & 0.016404498\\\\\n",
       "\t 0.01786731  & 3           & 0.2707907   & 0.2868700   & 0.011874473\\\\\n",
       "\t 0.01765898  & 4           & 0.2529234   & 0.2798836   & 0.011196618\\\\\n",
       "\t 0.01405451  & 5           & 0.2352644   & 0.2637802   & 0.009816992\\\\\n",
       "\t 0.01000000  & 6           & 0.2212099   & 0.2474676   & 0.009285350\\\\\n",
       "\\end{tabular}\n"
      ],
      "text/markdown": [
       "\n",
       "| CP | nsplit | rel error | xerror | xstd |\n",
       "|---|---|---|---|---|\n",
       "| 0.51782858  | 0           | 1.0000000   | 1.0013679   | 0.049162658 |\n",
       "| 0.12634003  | 1           | 0.4821714   | 0.5118592   | 0.021653092 |\n",
       "| 0.08504068  | 2           | 0.3558314   | 0.3703644   | 0.016404498 |\n",
       "| 0.01786731  | 3           | 0.2707907   | 0.2868700   | 0.011874473 |\n",
       "| 0.01765898  | 4           | 0.2529234   | 0.2798836   | 0.011196618 |\n",
       "| 0.01405451  | 5           | 0.2352644   | 0.2637802   | 0.009816992 |\n",
       "| 0.01000000  | 6           | 0.2212099   | 0.2474676   | 0.009285350 |\n",
       "\n"
      ],
      "text/plain": [
       "  CP         nsplit rel error xerror    xstd       \n",
       "1 0.51782858 0      1.0000000 1.0013679 0.049162658\n",
       "2 0.12634003 1      0.4821714 0.5118592 0.021653092\n",
       "3 0.08504068 2      0.3558314 0.3703644 0.016404498\n",
       "4 0.01786731 3      0.2707907 0.2868700 0.011874473\n",
       "5 0.01765898 4      0.2529234 0.2798836 0.011196618\n",
       "6 0.01405451 5      0.2352644 0.2637802 0.009816992\n",
       "7 0.01000000 6      0.2212099 0.2474676 0.009285350"
      ]
     },
     "metadata": {},
     "output_type": "display_data"
    },
    {
     "data": {
      "text/html": [
       "<ol class=list-inline>\n",
       "\t<li>5.7749690575941</li>\n",
       "\t<li>5.67075055396092</li>\n",
       "\t<li>5.5398037351568</li>\n",
       "\t<li>5.40731210238471</li>\n",
       "\t<li>4.77670922976877</li>\n",
       "\t<li>3.83985887238091</li>\n",
       "</ol>\n"
      ],
      "text/latex": [
       "\\begin{enumerate*}\n",
       "\\item 5.7749690575941\n",
       "\\item 5.67075055396092\n",
       "\\item 5.5398037351568\n",
       "\\item 5.40731210238471\n",
       "\\item 4.77670922976877\n",
       "\\item 3.83985887238091\n",
       "\\end{enumerate*}\n"
      ],
      "text/markdown": [
       "1. 5.7749690575941\n",
       "2. 5.67075055396092\n",
       "3. 5.5398037351568\n",
       "4. 5.40731210238471\n",
       "5. 4.77670922976877\n",
       "6. 3.83985887238091\n",
       "\n",
       "\n"
      ],
      "text/plain": [
       "[1] 5.774969 5.670751 5.539804 5.407312 4.776709 3.839859"
      ]
     },
     "metadata": {},
     "output_type": "display_data"
    },
    {
     "data": {
      "text/html": [
       "<table>\n",
       "<thead><tr><th scope=col>nsplit</th><th scope=col>variance</th><th scope=col>MSE</th></tr></thead>\n",
       "<tbody>\n",
       "\t<tr><td>6          </td><td>5.774969   </td><td>0.000119168</td></tr>\n",
       "\t<tr><td>5          </td><td>5.670751   </td><td>0.000119168</td></tr>\n",
       "\t<tr><td>4          </td><td>5.539804   </td><td>0.000119168</td></tr>\n",
       "\t<tr><td>3          </td><td>5.407312   </td><td>0.000119168</td></tr>\n",
       "\t<tr><td>2          </td><td>4.776709   </td><td>0.000119168</td></tr>\n",
       "\t<tr><td>1          </td><td>3.839859   </td><td>0.000119168</td></tr>\n",
       "</tbody>\n",
       "</table>\n"
      ],
      "text/latex": [
       "\\begin{tabular}{r|lll}\n",
       " nsplit & variance & MSE\\\\\n",
       "\\hline\n",
       "\t 6           & 5.774969    & 0.000119168\\\\\n",
       "\t 5           & 5.670751    & 0.000119168\\\\\n",
       "\t 4           & 5.539804    & 0.000119168\\\\\n",
       "\t 3           & 5.407312    & 0.000119168\\\\\n",
       "\t 2           & 4.776709    & 0.000119168\\\\\n",
       "\t 1           & 3.839859    & 0.000119168\\\\\n",
       "\\end{tabular}\n"
      ],
      "text/markdown": [
       "\n",
       "| nsplit | variance | MSE |\n",
       "|---|---|---|\n",
       "| 6           | 5.774969    | 0.000119168 |\n",
       "| 5           | 5.670751    | 0.000119168 |\n",
       "| 4           | 5.539804    | 0.000119168 |\n",
       "| 3           | 5.407312    | 0.000119168 |\n",
       "| 2           | 4.776709    | 0.000119168 |\n",
       "| 1           | 3.839859    | 0.000119168 |\n",
       "\n"
      ],
      "text/plain": [
       "  nsplit variance MSE        \n",
       "1 6      5.774969 0.000119168\n",
       "2 5      5.670751 0.000119168\n",
       "3 4      5.539804 0.000119168\n",
       "4 3      5.407312 0.000119168\n",
       "5 2      4.776709 0.000119168\n",
       "6 1      3.839859 0.000119168"
      ]
     },
     "metadata": {},
     "output_type": "display_data"
    },
    {
     "data": {
      "image/png": "[encoded data removed]",
      "text/plain": [
       "plot without title"
      ]
     },
     "metadata": {},
     "output_type": "display_data"
    }
   ],
   "source": [
    "#Comparison of Variance Tree Prediction\n",
    "\n",
    "df <- genData(1400)\n",
    "\n",
    "tree <- rpart(formula = CPI ~ Log_RGDPPC+GINI+UNEM+ALR+DEMO+EF, data = testDf)\n",
    "var_tree<-c()\n",
    "cpmatrix<-printcp(tree)\n",
    "cpmatrix\n",
    "l<-length(cpmatrix[,1])\n",
    "mse_tree<-c()\n",
    "\n",
    "for(split in 1:(l-1)){\n",
    "  cp_value<-cpmatrix[l+1-split,1]\n",
    "  tree_new<-prune(tree,cp=cp_value)\n",
    "  var_tree<-c(var_tree,var(predict(tree_new)))\n",
    "  mse_tree<-c(mse_tree, mean(predict(tree_new)-df$CPI)^2)\n",
    "}\n",
    "\n",
    "var_tree\n",
    "variance<-data.frame(nsplit=rev(as.matrix(cpmatrix[2:l,2])), variance=var_tree, MSE=mse_tree)\n",
    "variance\n",
    "par(mfrow=c(2,1))\n",
    "plot(variance$nsplit,variance$variance, ylab=\"Variance\", xlab=\"\")\n",
    "plot(variance$nsplit, variance$MSE, ylab=\"MSE\", xlab=\"Number of splits\")\n",
    "par(mfrow=c(1,1))"
   ]
  },
  {
   "cell_type": "markdown",
   "metadata": {},
   "source": [
    "# Bagging and Random Forest \n",
    "\n",
    "###  Bagging\n",
    "\n",
    "1. The function **randomForest()** is used for bagging and random forest. \n",
    "2. $m = p$, we set $mtry=6$ (all predictors should be accounted for each split of the tree)\n",
    "\n"
   ]
  },
  {
   "cell_type": "code",
   "execution_count": 40,
   "metadata": {},
   "outputs": [
    {
     "data": {
      "text/plain": [
       "\n",
       "Call:\n",
       " randomForest(formula = CPI ~ ., data = trainDf, mtry = 6, ntree = 500) \n",
       "               Type of random forest: regression\n",
       "                     Number of trees: 500\n",
       "No. of variables tried at each split: 6\n",
       "\n",
       "          Mean of squared residuals: 1.200758\n",
       "                    % Var explained: 86.04"
      ]
     },
     "metadata": {},
     "output_type": "display_data"
    },
    {
     "data": {
      "text/html": [
       "497"
      ],
      "text/latex": [
       "497"
      ],
      "text/markdown": [
       "497"
      ],
      "text/plain": [
       "[1] 497"
      ]
     },
     "metadata": {},
     "output_type": "display_data"
    },
    {
     "data": {
      "text/plain": [
       "\n",
       "Call:\n",
       " randomForest(formula = CPI ~ ., data = testDf, mtry = 6, ntree = 500) \n",
       "               Type of random forest: regression\n",
       "                     Number of trees: 500\n",
       "No. of variables tried at each split: 6\n",
       "\n",
       "          Mean of squared residuals: 1.196904\n",
       "                    % Var explained: 83.85"
      ]
     },
     "metadata": {},
     "output_type": "display_data"
    },
    {
     "data": {
      "text/html": [
       "460"
      ],
      "text/latex": [
       "460"
      ],
      "text/markdown": [
       "460"
      ],
      "text/plain": [
       "[1] 460"
      ]
     },
     "metadata": {},
     "output_type": "display_data"
    }
   ],
   "source": [
    "# Random Forest that uses all the covariates = bagging\n",
    "\n",
    "# Bagging on the training data set\n",
    "\n",
    "Bag.train<-randomForest(CPI ~ .,  data = trainDf, mtry=6, ntree=500)\n",
    "Bag.train\n",
    "\n",
    "# number of trees with lowest MSE\n",
    "which.min(Bag.train$mse)\n",
    "\n",
    "# MSE of these optimal baggings\n",
    "mse_bag_train<-Bag.train$mse[which.min(Bag.train$mse)]\n",
    "\n",
    "\n",
    "\n",
    "#bagging on test data set\n",
    "\n",
    "Bag.test<-randomForest(CPI ~ .,  data = testDf, mtry=6, ntree=500)\n",
    "Bag.test\n",
    "\n",
    "# number of trees with lowest MSE\n",
    "which.min(Bag.test$mse)\n",
    "\n",
    "# MSE of these optimal baggings\n",
    "mse_bag_test<-Bag.test$mse[which.min(Bag.test$mse)]\n"
   ]
  },
  {
   "cell_type": "code",
   "execution_count": 41,
   "metadata": {},
   "outputs": [
    {
     "name": "stdout",
     "output_type": "stream",
     "text": [
      "1  2  3  4  5  6  "
     ]
    },
    {
     "data": {
      "text/html": [
       "<ol class=list-inline>\n",
       "\t<li>1.42308524834662</li>\n",
       "\t<li>1.23945895107277</li>\n",
       "\t<li>1.19427077980985</li>\n",
       "\t<li>1.19213865881944</li>\n",
       "\t<li>1.19075915709426</li>\n",
       "\t<li>1.19906867948676</li>\n",
       "</ol>\n"
      ],
      "text/latex": [
       "\\begin{enumerate*}\n",
       "\\item 1.42308524834662\n",
       "\\item 1.23945895107277\n",
       "\\item 1.19427077980985\n",
       "\\item 1.19213865881944\n",
       "\\item 1.19075915709426\n",
       "\\item 1.19906867948676\n",
       "\\end{enumerate*}\n"
      ],
      "text/markdown": [
       "1. 1.42308524834662\n",
       "2. 1.23945895107277\n",
       "3. 1.19427077980985\n",
       "4. 1.19213865881944\n",
       "5. 1.19075915709426\n",
       "6. 1.19906867948676\n",
       "\n",
       "\n"
      ],
      "text/plain": [
       "[1] 1.423085 1.239459 1.194271 1.192139 1.190759 1.199069"
      ]
     },
     "metadata": {},
     "output_type": "display_data"
    },
    {
     "data": {
      "text/html": [
       "<ol class=list-inline>\n",
       "\t<li>1.41564549573515</li>\n",
       "\t<li>1.24267082819411</li>\n",
       "\t<li>1.20845617893492</li>\n",
       "\t<li>1.19706913034602</li>\n",
       "\t<li>1.19773452732369</li>\n",
       "\t<li>1.20320606530221</li>\n",
       "</ol>\n"
      ],
      "text/latex": [
       "\\begin{enumerate*}\n",
       "\\item 1.41564549573515\n",
       "\\item 1.24267082819411\n",
       "\\item 1.20845617893492\n",
       "\\item 1.19706913034602\n",
       "\\item 1.19773452732369\n",
       "\\item 1.20320606530221\n",
       "\\end{enumerate*}\n"
      ],
      "text/markdown": [
       "1. 1.41564549573515\n",
       "2. 1.24267082819411\n",
       "3. 1.20845617893492\n",
       "4. 1.19706913034602\n",
       "5. 1.19773452732369\n",
       "6. 1.20320606530221\n",
       "\n",
       "\n"
      ],
      "text/plain": [
       "[1] 1.415645 1.242671 1.208456 1.197069 1.197735 1.203206"
      ]
     },
     "metadata": {},
     "output_type": "display_data"
    }
   ],
   "source": [
    "oob.err<-double(6)\n",
    "\n",
    "test.err<-double(6)\n",
    "\n",
    "#mtry is no of Variables randomly chosen at each split\n",
    "for(mtry in 1:6) \n",
    "{\n",
    "  Bag.train<-randomForest(CPI ~ .,  data = trainDf, mtry=mtry, ntree=500)\n",
    "  oob.err[mtry] = Bag.train$mse[500] #Error of all Trees fitted\n",
    "  \n",
    "  Bag.test<-randomForest(CPI ~ .,  data = testDf, mtry=mtry, ntree=500)\n",
    "  test.err[mtry]= mean((predict(Bag.test)-testDf$CPI)^2)#Mean Squared Test Error\n",
    "  \n",
    "  cat(mtry,\" \")\n",
    "  \n",
    "}\n",
    "\n",
    "oob.err\n",
    "test.err"
   ]
  },
  {
   "cell_type": "code",
   "execution_count": 42,
   "metadata": {},
   "outputs": [
    {
     "data": {
      "image/png": "[encoded data removed]",
      "text/plain": [
       "plot without title"
      ]
     },
     "metadata": {},
     "output_type": "display_data"
    }
   ],
   "source": [
    "matplot(1:mtry , cbind(oob.err,test.err), pch=19 , col=c(\"red\",\"blue\"),type=\"b\",ylab=\"Mean Squared Error\",xlab=\"Number of Predictors Considered at each Split\")\n",
    "legend(\"topright\",legend=c(\"Out of Bag Error\",\"Test Error\"),pch=19, col=c(\"red\",\"blue\"))\n",
    "  "
   ]
  },
  {
   "cell_type": "markdown",
   "metadata": {},
   "source": [
    "From the graph shown above we observe that the the Red line is the **Out of Bag Error Estimates** and the Blue Line is the **Error calculated on Test Set**. \n",
    "\n",
    "\n",
    "Both curves are smooth and the error estimates are also correlated to an extent. The Error Tends to be minimized at around mtry=5. \n"
   ]
  },
  {
   "cell_type": "markdown",
   "metadata": {},
   "source": [
    "# Random forest \n",
    "\n",
    " $m \\approx \\sqrt{p}$ \n",
    "\n",
    "## Training data \n"
   ]
  },
  {
   "cell_type": "code",
   "execution_count": 43,
   "metadata": {},
   "outputs": [
    {
     "data": {
      "text/html": [
       "<table>\n",
       "<thead><tr><th scope=col>ALR</th><th scope=col>DEMO</th><th scope=col>EF</th><th scope=col>GINI</th><th scope=col>Log_RGDPPC</th><th scope=col>UNEM</th><th scope=col>CPI</th></tr></thead>\n",
       "<tbody>\n",
       "\t<tr><td> 78.72728</td><td>6.810892 </td><td>4.239429 </td><td>28.39655 </td><td>8.138414 </td><td> 1.811835</td><td>6.379431 </td></tr>\n",
       "\t<tr><td> 74.71823</td><td>4.260488 </td><td>5.587335 </td><td>36.13275 </td><td>8.067592 </td><td>15.800994</td><td>6.148761 </td></tr>\n",
       "\t<tr><td>102.11955</td><td>6.169551 </td><td>6.236414 </td><td>45.49126 </td><td>8.604557 </td><td>12.698198</td><td>7.592418 </td></tr>\n",
       "\t<tr><td> 83.07807</td><td>1.925139 </td><td>5.728805 </td><td>63.51998 </td><td>6.541726 </td><td>27.080780</td><td>8.654921 </td></tr>\n",
       "\t<tr><td> 86.44567</td><td>2.939747 </td><td>5.938962 </td><td>52.16545 </td><td>7.282935 </td><td>23.456000</td><td>9.389960 </td></tr>\n",
       "\t<tr><td> 88.69630</td><td>1.280175 </td><td>5.932446 </td><td>47.01705 </td><td>9.064559 </td><td>14.618439</td><td>5.282967 </td></tr>\n",
       "</tbody>\n",
       "</table>\n"
      ],
      "text/latex": [
       "\\begin{tabular}{r|lllllll}\n",
       " ALR & DEMO & EF & GINI & Log\\_RGDPPC & UNEM & CPI\\\\\n",
       "\\hline\n",
       "\t  78.72728 & 6.810892  & 4.239429  & 28.39655  & 8.138414  &  1.811835 & 6.379431 \\\\\n",
       "\t  74.71823 & 4.260488  & 5.587335  & 36.13275  & 8.067592  & 15.800994 & 6.148761 \\\\\n",
       "\t 102.11955 & 6.169551  & 6.236414  & 45.49126  & 8.604557  & 12.698198 & 7.592418 \\\\\n",
       "\t  83.07807 & 1.925139  & 5.728805  & 63.51998  & 6.541726  & 27.080780 & 8.654921 \\\\\n",
       "\t  86.44567 & 2.939747  & 5.938962  & 52.16545  & 7.282935  & 23.456000 & 9.389960 \\\\\n",
       "\t  88.69630 & 1.280175  & 5.932446  & 47.01705  & 9.064559  & 14.618439 & 5.282967 \\\\\n",
       "\\end{tabular}\n"
      ],
      "text/markdown": [
       "\n",
       "| ALR | DEMO | EF | GINI | Log_RGDPPC | UNEM | CPI |\n",
       "|---|---|---|---|---|---|---|\n",
       "|  78.72728 | 6.810892  | 4.239429  | 28.39655  | 8.138414  |  1.811835 | 6.379431  |\n",
       "|  74.71823 | 4.260488  | 5.587335  | 36.13275  | 8.067592  | 15.800994 | 6.148761  |\n",
       "| 102.11955 | 6.169551  | 6.236414  | 45.49126  | 8.604557  | 12.698198 | 7.592418  |\n",
       "|  83.07807 | 1.925139  | 5.728805  | 63.51998  | 6.541726  | 27.080780 | 8.654921  |\n",
       "|  86.44567 | 2.939747  | 5.938962  | 52.16545  | 7.282935  | 23.456000 | 9.389960  |\n",
       "|  88.69630 | 1.280175  | 5.932446  | 47.01705  | 9.064559  | 14.618439 | 5.282967  |\n",
       "\n"
      ],
      "text/plain": [
       "  ALR       DEMO     EF       GINI     Log_RGDPPC UNEM      CPI     \n",
       "1  78.72728 6.810892 4.239429 28.39655 8.138414    1.811835 6.379431\n",
       "2  74.71823 4.260488 5.587335 36.13275 8.067592   15.800994 6.148761\n",
       "3 102.11955 6.169551 6.236414 45.49126 8.604557   12.698198 7.592418\n",
       "4  83.07807 1.925139 5.728805 63.51998 6.541726   27.080780 8.654921\n",
       "5  86.44567 2.939747 5.938962 52.16545 7.282935   23.456000 9.389960\n",
       "6  88.69630 1.280175 5.932446 47.01705 9.064559   14.618439 5.282967"
      ]
     },
     "metadata": {},
     "output_type": "display_data"
    },
    {
     "data": {
      "text/plain": [
       "\n",
       "Call:\n",
       " randomForest(formula = CPI ~ ., data = trainDf, proximity = TRUE) \n",
       "               Type of random forest: regression\n",
       "                     Number of trees: 500\n",
       "No. of variables tried at each split: 2\n",
       "\n",
       "          Mean of squared residuals: 1.246129\n",
       "                    % Var explained: 85.51"
      ]
     },
     "metadata": {},
     "output_type": "display_data"
    },
    {
     "data": {
      "text/html": [
       "477"
      ],
      "text/latex": [
       "477"
      ],
      "text/markdown": [
       "477"
      ],
      "text/plain": [
       "[1] 477"
      ]
     },
     "metadata": {},
     "output_type": "display_data"
    },
    {
     "data": {
      "text/plain": [
       "\n",
       "Call:\n",
       " randomForest(formula = CPI ~ ., data = trainDf, proximity = TRUE,      ntree = split) \n",
       "               Type of random forest: regression\n",
       "                     Number of trees: 477\n",
       "No. of variables tried at each split: 2\n",
       "\n",
       "          Mean of squared residuals: 1.233449\n",
       "                    % Var explained: 85.66"
      ]
     },
     "metadata": {},
     "output_type": "display_data"
    }
   ],
   "source": [
    "#perform random forest on training data\n",
    "\n",
    "head(trainDf)\n",
    "rf_train<-randomForest(CPI ~ .,  data = trainDf, proximity = TRUE)\n",
    "rf_train\n",
    "\n",
    "split <- which.min(rf_train$mse)\n",
    "split\n",
    "\n",
    "rf_prune_train<-randomForest(CPI ~ .,  data = trainDf, proximity = TRUE, ntree = split)\n",
    "rf_prune_train\n"
   ]
  },
  {
   "cell_type": "markdown",
   "metadata": {},
   "source": [
    "## Variable Importance Measures\n",
    "1. The variable importance function in R records the total amount of RSS decreased with each split over a given predictor, averaged over all B trees, an important predictor is shown through a large value.\n",
    "\n",
    "2. The higher the \"IncNodePurity\" the more important the variable. From our model we observe that the most important variable is **Log_RGDPPC(real per capita income)** which is then followed by **Economic Freedom**.\n",
    "\n",
    "3. We can examine the raw scores for each variable using the “importance” function. \n"
   ]
  },
  {
   "cell_type": "code",
   "execution_count": 44,
   "metadata": {},
   "outputs": [
    {
     "data": {
      "text/html": [
       "<table>\n",
       "<thead><tr><th></th><th scope=col>IncNodePurity</th></tr></thead>\n",
       "<tbody>\n",
       "\t<tr><th scope=row>ALR</th><td> 670.4643</td></tr>\n",
       "\t<tr><th scope=row>DEMO</th><td>1317.1711</td></tr>\n",
       "\t<tr><th scope=row>EF</th><td>1532.4465</td></tr>\n",
       "\t<tr><th scope=row>GINI</th><td>1551.3895</td></tr>\n",
       "\t<tr><th scope=row>Log_RGDPPC</th><td>6052.5587</td></tr>\n",
       "\t<tr><th scope=row>UNEM</th><td> 727.9317</td></tr>\n",
       "</tbody>\n",
       "</table>\n"
      ],
      "text/latex": [
       "\\begin{tabular}{r|l}\n",
       "  & IncNodePurity\\\\\n",
       "\\hline\n",
       "\tALR &  670.4643\\\\\n",
       "\tDEMO & 1317.1711\\\\\n",
       "\tEF & 1532.4465\\\\\n",
       "\tGINI & 1551.3895\\\\\n",
       "\tLog\\_RGDPPC & 6052.5587\\\\\n",
       "\tUNEM &  727.9317\\\\\n",
       "\\end{tabular}\n"
      ],
      "text/markdown": [
       "\n",
       "| <!--/--> | IncNodePurity |\n",
       "|---|---|\n",
       "| ALR |  670.4643 |\n",
       "| DEMO | 1317.1711 |\n",
       "| EF | 1532.4465 |\n",
       "| GINI | 1551.3895 |\n",
       "| Log_RGDPPC | 6052.5587 |\n",
       "| UNEM |  727.9317 |\n",
       "\n"
      ],
      "text/plain": [
       "           IncNodePurity\n",
       "ALR         670.4643    \n",
       "DEMO       1317.1711    \n",
       "EF         1532.4465    \n",
       "GINI       1551.3895    \n",
       "Log_RGDPPC 6052.5587    \n",
       "UNEM        727.9317    "
      ]
     },
     "metadata": {},
     "output_type": "display_data"
    },
    {
     "data": {
      "image/png": "[encoded data removed]",
      "text/plain": [
       "Plot with title \"rf_prune_train\""
      ]
     },
     "metadata": {},
     "output_type": "display_data"
    }
   ],
   "source": [
    "#Plotting the important variables\n",
    "varImpPlot(rf_prune_train)\n",
    "\n",
    "\n",
    "#measuring the importance of variables\n",
    "importance(rf_prune_train,type=2)\n"
   ]
  },
  {
   "cell_type": "markdown",
   "metadata": {},
   "source": [
    "## Test data \n",
    "\n",
    "we will now run the function randomforest() on test data. "
   ]
  },
  {
   "cell_type": "code",
   "execution_count": 45,
   "metadata": {},
   "outputs": [
    {
     "data": {
      "text/plain": [
       "\n",
       "Call:\n",
       " randomForest(formula = CPI ~ ., data = testDf) \n",
       "               Type of random forest: regression\n",
       "                     Number of trees: 500\n",
       "No. of variables tried at each split: 2\n",
       "\n",
       "          Mean of squared residuals: 1.252041\n",
       "                    % Var explained: 83.1"
      ]
     },
     "metadata": {},
     "output_type": "display_data"
    },
    {
     "data": {
      "text/plain": [
       "\n",
       "Call:\n",
       " randomForest(formula = CPI ~ ., data = testDf, proximity = TRUE,      ntree = split_test) \n",
       "               Type of random forest: regression\n",
       "                     Number of trees: 407\n",
       "No. of variables tried at each split: 2\n",
       "\n",
       "          Mean of squared residuals: 1.246733\n",
       "                    % Var explained: 83.18"
      ]
     },
     "metadata": {},
     "output_type": "display_data"
    },
    {
     "data": {
      "image/png": "[encoded data removed]",
      "text/plain": [
       "Plot with title \"rf_prune_test\""
      ]
     },
     "metadata": {},
     "output_type": "display_data"
    }
   ],
   "source": [
    "#perform random forest on test data \n",
    "\n",
    "rf_test<-randomForest(CPI ~ .,  data = testDf)\n",
    "rf_test\n",
    "par(mfrow=c(2,1))\n",
    "plot(rf_test)\n",
    "split_test<-which.min(rf_test$mse)\n",
    "\n",
    "rf_prune_test<-randomForest(CPI ~ .,  data = testDf, proximity = TRUE, ntree = split_test)\n",
    "plot(rf_prune_test)\n",
    "par(mfrow=c(1,1))\n",
    "rf_prune_test\n",
    "\n"
   ]
  },
  {
   "cell_type": "markdown",
   "metadata": {},
   "source": [
    "##  MSE (Bagging and Random forest)"
   ]
  },
  {
   "cell_type": "code",
   "execution_count": 46,
   "metadata": {},
   "outputs": [
    {
     "data": {
      "text/plain": [
       "                      Bagging RF full tree RF Pruned tree\n",
       "MSE on Training Data 1.200330     1.246129       1.233449\n",
       "MSE on Testing Data  1.194719     1.252041       1.246733"
      ]
     },
     "metadata": {},
     "output_type": "display_data"
    }
   ],
   "source": [
    "#MSE bagging\n",
    "mse_bag.train<-mse_bag_train\n",
    "mse_bag_test<-mse_bag_test\n",
    "\n",
    "#MSE random forest train \n",
    "mse_rf_train<- mean((predict(rf_train)-trainDf$CPI)^2)\n",
    "mse_rf_prune_train<- mean((predict(rf_prune_train)-trainDf$CPI)^2)\n",
    "\n",
    "#MSE random forest Test \n",
    "mse_rf_test<- mean((predict(rf_test)-testDf$CPI)^2)\n",
    "mse_rf_prune_test<- mean((predict(rf_prune_test)-testDf$CPI)^2)\n",
    "\n",
    "MSEMatrix <- matrix(\n",
    "  data = c(mse_bag.train, mse_bag_test, mse_rf_train, mse_rf_test,mse_rf_prune_train,mse_rf_prune_test),\n",
    "  nrow = 2,\n",
    "  ncol = 3\n",
    ")\n",
    "colnames(MSEMatrix) <- c(\n",
    "  \"Bagging\",\n",
    "  \"RF full tree\",\n",
    "  \"RF Pruned tree\"\n",
    ")\n",
    "rownames(MSEMatrix) <- c(\n",
    "  \"MSE on Training Data\",\n",
    "  \"MSE on Testing Data\"\n",
    ")\n",
    "MSE.Table <- as.table(MSEMatrix)\n",
    "MSE.Table\n"
   ]
  },
  {
   "cell_type": "code",
   "execution_count": 47,
   "metadata": {},
   "outputs": [
    {
     "data": {
      "text/html": [
       "<table>\n",
       "<thead><tr><th></th><th scope=col>data.Min.</th><th scope=col>data.1st.Qu.</th><th scope=col>data.Median</th><th scope=col>data.Mean</th><th scope=col>data.3rd.Qu.</th><th scope=col>data.Max.</th></tr></thead>\n",
       "<tbody>\n",
       "\t<tr><th scope=row>Random Forest</th><td>1.122111</td><td>1.165944</td><td>1.204572</td><td>1.205148</td><td>1.240225</td><td>1.367553</td></tr>\n",
       "\t<tr><th scope=row>OLS</th><td>1.684324</td><td>1.848621</td><td>1.907006</td><td>1.927824</td><td>2.003775</td><td>2.205931</td></tr>\n",
       "</tbody>\n",
       "</table>\n"
      ],
      "text/latex": [
       "\\begin{tabular}{r|llllll}\n",
       "  & data.Min. & data.1st.Qu. & data.Median & data.Mean & data.3rd.Qu. & data.Max.\\\\\n",
       "\\hline\n",
       "\tRandom Forest & 1.122111 & 1.165944 & 1.204572 & 1.205148 & 1.240225 & 1.367553\\\\\n",
       "\tOLS & 1.684324 & 1.848621 & 1.907006 & 1.927824 & 2.003775 & 2.205931\\\\\n",
       "\\end{tabular}\n"
      ],
      "text/markdown": [
       "\n",
       "| <!--/--> | data.Min. | data.1st.Qu. | data.Median | data.Mean | data.3rd.Qu. | data.Max. |\n",
       "|---|---|---|---|---|---|---|\n",
       "| Random Forest | 1.122111 | 1.165944 | 1.204572 | 1.205148 | 1.240225 | 1.367553 |\n",
       "| OLS | 1.684324 | 1.848621 | 1.907006 | 1.927824 | 2.003775 | 2.205931 |\n",
       "\n"
      ],
      "text/plain": [
       "              data.Min. data.1st.Qu. data.Median data.Mean data.3rd.Qu.\n",
       "Random Forest 1.122111  1.165944     1.204572    1.205148  1.240225    \n",
       "OLS           1.684324  1.848621     1.907006    1.927824  2.003775    \n",
       "              data.Max.\n",
       "Random Forest 1.367553 \n",
       "OLS           2.205931 "
      ]
     },
     "metadata": {},
     "output_type": "display_data"
    },
    {
     "data": {
      "image/png": "[encoded data removed]",
      "text/plain": [
       "plot without title"
      ]
     },
     "metadata": {},
     "output_type": "display_data"
    }
   ],
   "source": [
    "#perform simulation test \n",
    "\n",
    "mse_rf_simu_vec<-c()\n",
    "mse_ols_simu_2_vec<-c()\n",
    "for (i in 1:100) {\n",
    "  df_simu_ran <- genData(1400)\n",
    "  rf_simu <- randomForest(formula=CPI ~ Log_RGDPPC+GINI+UNEM+ALR+DEMO+EF,data = df_simu_ran)\n",
    "  mse_rf_simu<-mean((predict(rf_simu)-df_simu_ran$CPI)^2)\n",
    "  ols_simu_2<- lm(formula=CPI ~ Log_RGDPPC+GINI+UNEM+ALR+DEMO+EF,data = df_simu_ran)\n",
    "  mse_ols_simu_2<-mean((predict(ols_simu_2)-df_simu_ran$CPI)^2)\n",
    "  mse_rf_simu_vec<-c(mse_rf_simu_vec,mse_rf_simu)\n",
    "  mse_ols_simu_2_vec<-c(mse_ols_simu_2_vec, mse_ols_simu_2)\n",
    "  \n",
    "}\n",
    "\n",
    "simu_2=data.frame(MSE_OLS2=mse_ols_simu_2_vec,MSE_rf=mse_rf_simu_vec, iteration=c(1:100))\n",
    "summary<-data.frame(data=rbind(summary(simu_2$MSE_rf),summary(simu_2$MSE_OLS2)), row.names=c('Random Forest', 'OLS'))\n",
    "summary\n",
    "boxplot(simu_2$MSE_rf, simu_2$MSE_OLS2, names=c(\"MSE_RF\", \"MSE_OLS2\"), outline=FALSE)\n",
    "points(simu$MSE_rf, col='blue')"
   ]
  },
  {
   "cell_type": "code",
   "execution_count": 48,
   "metadata": {},
   "outputs": [
    {
     "data": {
      "text/html": [
       "<table>\n",
       "<thead><tr><th scope=col>Model</th><th scope=col>Training_MSE</th><th scope=col>Test.MSE</th></tr></thead>\n",
       "<tbody>\n",
       "\t<tr><td>Tree         </td><td>0.7043779    </td><td>0.6878142    </td></tr>\n",
       "\t<tr><td>pruned tree  </td><td>1.5925797    </td><td>1.6391681    </td></tr>\n",
       "\t<tr><td>Linear model </td><td>1.9925304    </td><td>1.7438344    </td></tr>\n",
       "\t<tr><td>Bagging      </td><td>1.2003298    </td><td>1.1947193    </td></tr>\n",
       "\t<tr><td>Random forest</td><td>1.2334494    </td><td>1.2467331    </td></tr>\n",
       "</tbody>\n",
       "</table>\n"
      ],
      "text/latex": [
       "\\begin{tabular}{r|lll}\n",
       " Model & Training\\_MSE & Test.MSE\\\\\n",
       "\\hline\n",
       "\t Tree          & 0.7043779     & 0.6878142    \\\\\n",
       "\t pruned tree   & 1.5925797     & 1.6391681    \\\\\n",
       "\t Linear model  & 1.9925304     & 1.7438344    \\\\\n",
       "\t Bagging       & 1.2003298     & 1.1947193    \\\\\n",
       "\t Random forest & 1.2334494     & 1.2467331    \\\\\n",
       "\\end{tabular}\n"
      ],
      "text/markdown": [
       "\n",
       "| Model | Training_MSE | Test.MSE |\n",
       "|---|---|---|\n",
       "| Tree          | 0.7043779     | 0.6878142     |\n",
       "| pruned tree   | 1.5925797     | 1.6391681     |\n",
       "| Linear model  | 1.9925304     | 1.7438344     |\n",
       "| Bagging       | 1.2003298     | 1.1947193     |\n",
       "| Random forest | 1.2334494     | 1.2467331     |\n",
       "\n"
      ],
      "text/plain": [
       "  Model         Training_MSE Test.MSE \n",
       "1 Tree          0.7043779    0.6878142\n",
       "2 pruned tree   1.5925797    1.6391681\n",
       "3 Linear model  1.9925304    1.7438344\n",
       "4 Bagging       1.2003298    1.1947193\n",
       "5 Random forest 1.2334494    1.2467331"
      ]
     },
     "metadata": {},
     "output_type": "display_data"
    }
   ],
   "source": [
    "# Collect all the MSEs and compare error rates\n",
    "\n",
    "\n",
    "mse_comparison <- data.frame(\"Model\" = c(\"Tree\", \"pruned tree\", \"Linear model\", \"Bagging\",\"Random forest\"),\n",
    "                             \"Training_MSE\"= c(Treemse_train,pruneTreemse_train,linearmse_train,mse_bag_train,mse_rf_prune_train),\n",
    "                             \"Test-MSE\" = c(Treemse_test,pruneTreemse_test , linearmse_test, mse_bag_test,mse_rf_prune_test))\n",
    "                            \n",
    "mse_comparison\n",
    "\n",
    "\n"
   ]
  },
  {
   "cell_type": "markdown",
   "metadata": {},
   "source": [
    "# Discussion \n",
    "\n",
    "This document  was created with an aim to explore alternative statistical methods which would fit the data framework produced using the quadratic equation provided to us by Saha and Gounder (2013) in their study \"Corruption and economic development nexus: Variations across income levels in a non-linear framework\". For the purpose of this paper three statistical models have been examined: **CART(regression trees), bagging and random forest**. These methods were chosen due to their ability to produce accurate results and provide the best fit with non-linear data. \n",
    "\n",
    "\n",
    "## Linear Model (Summary)\n",
    "\n",
    "The linear model  demonstrates a negative association between corruption and economic development, this is in support of the results provided to us by the authors. In addition, we also observe a negative association between corruption and adult literacy rate, democracy, Gini index, and unemployment, and a positive association with economic freedom. The association between **CPI**(corruption perception index) and **RGDPPC** (real per capita income), reflects that a high level of per capita real GDP reduces corruption. As stated by Li et al.(2000) empirical findings have also found that corruption tends to have a negative impact on growth. The authors hypothesized that the association between CPI and **GINI**(Gini coefficient) should be positive, however with our results we obtained a negative association, this would imply that income inequality reduces the ability to pay bribes to purchase public services.Likewise, the association between **UNEM**(unemployment) and CPI is negative, this indicates that in many developing countries where there are low levels of employment, it is difficult for individuals to engage in corrupt activities due to absence of the minimum amount of funds required to make investments which would work in their benefit. The association between **ALR**(adult literacy rate) and CPI has also been found to be negative, this would imply that a higher level of education increases awareness regarding public entitlements, it is hence expected that corruption levels begin to fall where the population becomes more literate. **DEMO**(Democracy) and CPI have also proven to be negative. It has been found in several studies that the presence of democracy reduces corruption as democratic values and freedom of expression with the presence of media and press results in closer monitoring and control of unjust activities which increases the risk of exposure and reduces participation in illegal acts. **EF**(economic freedom) and CPI have a positive association, this indicates that economic liberalisation, in other words, the lessening of government regulations provides an opportunity to indulge in more corrupt activities as there is little protection against illegal activities. \n",
    "\n",
    "## Tree and Linear model\n",
    "\n",
    "It is assumed that a simple linear regression would perform better than a tree approach only if the the association between the predictor and response variable is well approximated, in other words, the association between corruption and economic development is in fact linear(negative). However, as emphasized by the authors this is not the case. With a quadratic function we observe high non-linearity and a complex relation between the response and predictor variables. \n",
    "\n",
    "The CART model is used on both classification and regression problems. The regression trees were built using the data set generated from the quadratic equation. Initially we constructed an unpruned tree with extensive splits, we then pruned the tree to derive the optimal split at which the RSS was lowest. \n",
    "\n",
    "The decision trees when compared to the original linear model delivered interesting test error rates. The test error rate for the unpruned tree was found to be lesser than the pruned tree, however all in all it was found that the test error rate from the simple linear model was larger than that of decision trees.This demonstrates that there in fact does exist a clear distinction between both models. \n",
    "\n",
    "These results would imply that decision trees would serve as a suitable alternative to a basic linear model. Decision trees also provide an added benefit, which is the ability to accurately and easily interpret the results. It was found that the most important indicator is \"LOG_RGDPPC\". The test set MSE associated with the regression tree is 0.6991936. The square root of the MSE is around 0.83617797. \n",
    "\n",
    "In terms of variance and tree prediction, it has been observed that a tree with a greater amount of splits has been found to have more variance, this encourages the need to prune the tree to achieve a split which minimizes the error. \n",
    "\n",
    "## Bagging and Decision Trees\n",
    "\n",
    "It is important to note that the use of decision trees(regression trees) results in high variance, for this reason it is essential to apply alternative statistical methods which could lower variance and improve accuracy. For this reason bagging was administered on the non-linear data set.  \n",
    "\n",
    "The test error rates from the bagging model suggest that this statistical method has outperformed the basic linear and decision trees. Furthermore, 86.04%  of explained variance for the bagged model on test data was found. This would suggest that the aggregation of trees on a bootstrapped data set results in a more accurate fit to the data.\n",
    "\n",
    "Bagging provides it's benefits with improved accuracy and lower variance. Decision trees provide us with an opportunity to accurately interpret the results, it might not be the same for bagging, however we can observe the important variables used in the process of tree construction. With VarImpplot() function in R, we were able to conclude that the most important predictor in tree construction was the real per capita income. \n",
    "\n",
    "#### OOB error rate and Test error rate\n",
    "\n",
    "The out-of-bag observations(OOB) are defined as those observations which are not used to fit the given bagged tree.\n",
    "In other words, as the process of bagging involves trees being repeatedly fit to bootstrapped subsets of the observations, on average each bagged tree uses around a certain value of the observations, the remaining observations are then not used to fit the tree which are then defined as OOB observations.\n",
    "\n",
    "As we plot the OOB error and test error from bagging to compare both error rates we find a certain correlation between both. It was observed that the OOB error rate was the lowest at $mtry=5$, as bagging involves $m=p$, we observe on the far right-hand side the use of all predictors for tree construction. \n",
    "\n",
    "## Random forest \n",
    "\n",
    "Random forests were used as an alternative statistical method in this study. When compared to decision trees the use of random forests lowered the test error rate and the variance,  as stated by Liaq et al.(2002) the construction of each tree with a different bootstrapped sample of the data changes the way random forest construct trees when compared to decision trees. \n",
    "In comparison to bagging, in random forest we applied $m \\approx \\sqrt{p}$ for the construction of the trees. We noticed an almost similar test error rate to bagging, however slightly larger. Random forest when compared to a basic linear model provided us with a lower test error rate as well as a 85.29% explained variance for the prune tree on test data. These results would imply that Random forest can be used as an alternative statistical method, as it works quite effectively with the data set.\n",
    "\n"
   ]
  },
  {
   "cell_type": "markdown",
   "metadata": {},
   "source": [
    "# Conclusion\n",
    "\n",
    "As stated by the authors of the paper, the relation between perceived corruption and economic development is quite complex when considering countries at different stages of development. Therefore, it essential to evaluate the association between both components using statistical methods which would provide the highest accuracy. \n",
    "\n",
    "In reference to the results obtained in above we can conclude that the use of CART(regression tree), Bagging and Random forest provide us with a lower test error rate when compared to a simple linear model. However, when each model is compared to eachother, it is important to note that decision trees may not serve the most accurate results due to their exposure to high variance, in this regard random forest and bagging may outperform decision trees. \n",
    "\n",
    "With the results we have obtained for each of the four methods: linear model, regression trees, bagging and random forest, it should be noted that bagging produced the lowest test error rate, and a good value for the percentage of variance explained, this would imply that the bagging method is the most suited to the non-linear data set presented in the study. We can conclude that alternative statistical methods can be applied to this data set, and would serve to be a better fit than a simple linear model. \n",
    "\n",
    "From this document we were able to conclude that each of the statistical methods administered in this study served as an good alternative to a simple linear model in terms of the error rates they produced, a reduction in variance and their ability to interpret data in an easy and convenient manner. In the context of a non-linear association between corruption and economic developement, the above mentioned statistical methods can be applied. \n"
   ]
  },
  {
   "cell_type": "markdown",
   "metadata": {},
   "source": [
    "# References \n",
    "\n",
    "1. Liaw, A., & Wiener, M. (2002). Classification and regression by random Forest. R news , 2 (3), 18-22.\n",
    "\n",
    "2. Li, H., Xu, LC, & Zou, HF (2000). Corruption, income distribution, and growth. Economics & Politics , 12 (2), 155-182.\n",
    "\n",
    "3. Farooq, A., Shahbaz, M., Arouri, M., & Teulon, F. (2013). Does corruption impede economic growth in Pakistan?. Economic Modelling, 35, 622-633.\n",
    "\n",
    "4. Gyimah-Brempong, K. (2002). Corruption, economic growth, and income inequality in Africa. Economics of governance , 3 (3), 183-209."
   ]
  }
 ],
 "metadata": {
  "kernelspec": {
   "display_name": "R",
   "language": "R",
   "name": "ir"
  },
  "language_info": {
   "codemirror_mode": "r",
   "file_extension": ".r",
   "mimetype": "text/x-r-source",
   "name": "R",
   "pygments_lexer": "r",
   "version": "3.6.1"
  }
 },
 "nbformat": 4,
 "nbformat_minor": 4
}
